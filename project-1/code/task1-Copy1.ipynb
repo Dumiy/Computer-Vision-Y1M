{
 "cells": [
  {
   "cell_type": "code",
   "execution_count": 1,
   "metadata": {},
   "outputs": [],
   "source": [
    "import cv2 as cv\n",
    "import numpy as np\n",
    "import math\n",
    "from scipy import ndimage\n",
    "import copy"
   ]
  },
  {
   "cell_type": "code",
   "execution_count": 2,
   "metadata": {},
   "outputs": [],
   "source": [
    "classic_path = '../train/jigsaw'"
   ]
  },
  {
   "cell_type": "code",
   "execution_count": 3,
   "metadata": {},
   "outputs": [
    {
     "data": {
      "text/plain": [
       "(887, 665, 3)"
      ]
     },
     "execution_count": 3,
     "metadata": {},
     "output_type": "execute_result"
    }
   ],
   "source": [
    "img = cv.imread(classic_path+\"/15.jpg\")\n",
    "img = cv.resize(img,(0,0),fx=0.22,fy=0.22)\n",
    "img.shape"
   ]
  },
  {
   "cell_type": "code",
   "execution_count": 4,
   "metadata": {},
   "outputs": [],
   "source": [
    "def imshow(img):\n",
    "    cv.imshow('image',img)\n",
    "    cv.waitKey()\n",
    "    cv.destroyAllWindows()"
   ]
  },
  {
   "cell_type": "code",
   "execution_count": 626,
   "metadata": {
    "scrolled": true
   },
   "outputs": [],
   "source": [
    "def read_image_return_sudoku(folder_path: str, filename: str) -> np.array : \n",
    "    img = cv.imread(folder_path+\"/\"+filename,0)\n",
    "    img = cv.resize(img,(0,0),fx=0.22,fy=0.22)\n",
    "    original = img.copy()\n",
    "    img = cv.GaussianBlur(img,(15,15),0)\n",
    "    #original = cv.cvtColor(img.copy(),cv.COLOR_GRAY2BGR)\n",
    "    thresh = cv.adaptiveThreshold(img,255,cv.ADAPTIVE_THRESH_GAUSSIAN_C,\\\n",
    "            cv.THRESH_BINARY,5,2)\n",
    "    img = cv.bitwise_not(img.copy())\n",
    "#     kernel = np.ones((1,4), np.uint8)\n",
    "#     img_erosion = cv.erode(thresh, kernel, iterations=1)\n",
    "#     kernel = np.ones((4,1), np.uint8)\n",
    "#     img_erosion = cv.erode(thresh, kernel, iterations=1)\n",
    "    contours,_ = cv.findContours(thresh,cv.RETR_TREE, cv.CHAIN_APPROX_SIMPLE)\n",
    "    mock_image = thresh.copy()\n",
    "    saved = None\n",
    "    #last_peri = 0\n",
    "    for cnt in contours:\n",
    "        x,y,w,h = cv.boundingRect(cnt)\n",
    "        perimeter = cv.arcLength(cnt,True)\n",
    "        epsilon = 0.1*cv.arcLength(cnt,True)\n",
    "        approx = cv.approxPolyDP(cnt,epsilon,True)\n",
    "        #if w > 420 and h > 420 and x > 5 and y  > 5:\n",
    "        if w > 300 and w < 800 and h > 300 and h < 800:\n",
    "            if saved is None:\n",
    "                saved = (x,y,x+w,y+h)\n",
    "            if saved[3]-saved[1] < h:\n",
    "                saved = (x,y,x+w,y+h)\n",
    "    cv.rectangle(original,(saved[0],saved[1]),(saved[2],saved[3]),(0,0,0),13)\n",
    "            \n",
    "\n",
    "    #imshow(original)\n",
    "    if saved is None:\n",
    "        return original\n",
    "    return original[saved[1]:saved[3],saved[0]:saved[2]]"
   ]
  },
  {
   "cell_type": "code",
   "execution_count": 1169,
   "metadata": {
    "scrolled": true
   },
   "outputs": [],
   "source": [
    "#preprocessed = []\n",
    "def make_segmentation(classic_path: str, filename:str) -> list:\n",
    "    img = read_image_return_sudoku(classic_path,filename)\n",
    "\n",
    "    bw = cv.bitwise_not(img)\n",
    "    ret,bw = cv.threshold(img,200,255,cv.THRESH_BINARY)\n",
    "\n",
    "    horizontalStructure = cv.getStructuringElement(cv.MORPH_RECT, (4,1))\n",
    "    bw = cv.bitwise_not(img)\n",
    "    horizontal = cv.erode(bw, horizontalStructure)\n",
    "    horizontal = cv.dilate(horizontal, horizontalStructure)\n",
    "    \n",
    "    \n",
    "    vertical = cv.getStructuringElement(cv.MORPH_RECT, (1,4))\n",
    "    horizontal = cv.erode(horizontal, vertical)\n",
    "    horizontal = cv.dilate(horizontal, vertical)\n",
    "    \n",
    "    horizontal = cv.bitwise_not(horizontal)\n",
    "    horizontal = cv.GaussianBlur(horizontal,(5,5),0)\n",
    "    ret3,horizontal = cv.threshold(horizontal,200,255,cv.THRESH_BINARY+cv.THRESH_OTSU)\n",
    "\n",
    "    contours,_ = cv.findContours(horizontal,cv.RETR_EXTERNAL, cv.CHAIN_APPROX_SIMPLE)\n",
    "    cont = 0 \n",
    "    all_cont = []\n",
    "    for cnt in contours:\n",
    "        epsilon = 0.0002*cv.arcLength(cnt,True)\n",
    "        approx = cv.approxPolyDP(cnt,epsilon,True)\n",
    "        if len(approx) > 4 and epsilon > 0.06:\n",
    "            all_cont.append(np.array(approx))\n",
    "            cont+=1\n",
    "    all_cont = sorted(all_cont, key=lambda ctr: (cv.boundingRect(ctr)[1]//45,cv.boundingRect(ctr)[0]//45))\n",
    "    return all_cont"
   ]
  },
  {
   "cell_type": "code",
   "execution_count": 1173,
   "metadata": {},
   "outputs": [],
   "source": [
    "segmentation = make_segmentation(classic_path,'9.jpg')"
   ]
  },
  {
   "cell_type": "code",
   "execution_count": 1174,
   "metadata": {
    "scrolled": true
   },
   "outputs": [],
   "source": [
    "def make_squares(classic_path: str, filename:str) -> list:\n",
    "    img = read_image_return_sudoku(classic_path,filename)\n",
    "    img = cv.GaussianBlur(img,(3,3),0)\n",
    "    ret3,img = cv.threshold(img,140,255,cv.THRESH_BINARY)\n",
    "    contours,_ = cv.findContours(img,cv.RETR_TREE, cv.CHAIN_APPROX_SIMPLE)\n",
    "    squares = 0\n",
    "    all_cont = []\n",
    "    for cnt in contours:\n",
    "        x,y,w,h = cv.boundingRect(cnt)\n",
    "        epsilon = 0.1*cv.arcLength(cnt,True)\n",
    "        approx = cv.approxPolyDP(cnt,epsilon,True)\n",
    "        if len(approx) == 4 and w > 30 and h < 100:\n",
    "            all_cont.append([x,y,x+w,y+h])\n",
    "            squares+=1\n",
    "    if squares != 81:\n",
    "        img = read_image_return_sudoku(classic_path,str(i)+'.jpg')\n",
    "        color_img = cv.cvtColor(img.copy(),cv.COLOR_GRAY2BGR)\n",
    "        img = cv.GaussianBlur(img,(3,3),0)\n",
    "        ret3,img = cv.threshold(img,170,255,cv.THRESH_BINARY)\n",
    "\n",
    "        contours,_ = cv.findContours(img,cv.RETR_TREE, cv.CHAIN_APPROX_SIMPLE)\n",
    "        squares = 0\n",
    "        all_cont = []\n",
    "        for cnt in contours:\n",
    "            x,y,w,h = cv.boundingRect(cnt)\n",
    "            epsilon = 0.1*cv.arcLength(cnt,True)\n",
    "            approx = cv.approxPolyDP(cnt,epsilon,True)\n",
    "            if len(approx) == 4 and w > 30 and h < 100:\n",
    "                all_cont.append([x,y,x+w,y+h])\n",
    "                squares+=1\n",
    "        return all_cont\n",
    "    else:\n",
    "        return all_cont"
   ]
  },
  {
   "cell_type": "code",
   "execution_count": 1184,
   "metadata": {},
   "outputs": [],
   "source": [
    "squares = make_squares(classic_path,'9.jpg')"
   ]
  },
  {
   "cell_type": "code",
   "execution_count": 1185,
   "metadata": {},
   "outputs": [],
   "source": [
    "def sort_squares(all_squares: list) -> list:\n",
    "    correct = []\n",
    "    for i in range(9):\n",
    "        for j in range(9):\n",
    "            correct.append([i,j])\n",
    "    sorted_squares = []\n",
    "    diff = sorted(all_squares,key=lambda y : (y[0]))\n",
    "    block = diff[0][1]-diff[1][1] - 3\n",
    "    predict = []\n",
    "    for item in sorted(all_squares,key=lambda y : (y[0]//block,y[1]//block)):\n",
    "        predict.append([item[0]//block,item[1]//block])\n",
    "    if predict!=correct:\n",
    "        block = 52\n",
    "        predict = []\n",
    "        for item in sorted(all_squares,key=lambda y : (y[0]//block,y[1]//block)):\n",
    "            predict.append([item[0]//block,item[1]//block])\n",
    "        if predict==correct:\n",
    "            return sorted(all_squares,key=lambda y : (y[0]//block,y[1]//block))\n",
    "        else:\n",
    "            return sorted(all_squares,key=lambda y : (y[0]//block,y[1]//block))\n",
    "    return sorted(all_squares,key=lambda y : (y[0]//block,y[1]//block))"
   ]
  },
  {
   "cell_type": "code",
   "execution_count": 1186,
   "metadata": {},
   "outputs": [],
   "source": [
    "sorted_square = sort_squares(squares)"
   ]
  },
  {
   "cell_type": "code",
   "execution_count": 1187,
   "metadata": {},
   "outputs": [],
   "source": [
    "def create_submision_template() -> list:\n",
    "    template = '''\n",
    "oooxxxooo\n",
    "ooxoooxoo\n",
    "xooooooox\n",
    "oxoooooxo\n",
    "oxoxxxoxo\n",
    "oxoooooxo\n",
    "xooooooox\n",
    "ooxoooxoo\n",
    "oooxxxooo'''\n",
    "    template = template.replace(\"x\",'o').split(\"\\n\")[1:]\n",
    "    template = [list(x) for x in template]\n",
    "    return template"
   ]
  },
  {
   "cell_type": "code",
   "execution_count": 1201,
   "metadata": {},
   "outputs": [],
   "source": [
    "def prediction(classic_path: str, filename:str,sorted_square: list,segments: list)-> str:\n",
    "    img = read_image_return_sudoku(classic_path,filename)\n",
    "    img = cv.adaptiveThreshold(img,255,cv.ADAPTIVE_THRESH_GAUSSIAN_C,\\\n",
    "        cv.THRESH_BINARY,73,35)\n",
    "    img = cv.bitwise_not(img)\n",
    "    subm = create_submision_template()\n",
    "    count = 0 \n",
    "    for s, y, w, h in sorted_square:\n",
    "        i,j = count % 9, count // 9\n",
    "        in_y,in_x=y + 4,s + 4\n",
    "        decision = 0\n",
    "        for index,into in enumerate(segments):\n",
    "            if cv.pointPolygonTest(into,(in_x,in_y),False) == 1:\n",
    "                decision = index+1\n",
    "                break\n",
    "        uniq = np.unique(np.digitize(img[y + 8:h - 8, s + 8:w - 8], np.array([55])), return_counts=True)\n",
    "        if len(uniq[1]) == 2 and uniq[1][1] > 50:\n",
    "            subm[i][j] = str(decision)+'x'\n",
    "        else:\n",
    "            subm[i][j] = str(decision)+'o'\n",
    "        count+=1\n",
    "    #print(subm)\n",
    "    out = ''\n",
    "    for x in range(9):\n",
    "        for y in range(9):\n",
    "            out+=subm[x][y]\n",
    "        out+='\\n'\n",
    "    out+='\\n'\n",
    "    return out"
   ]
  },
  {
   "cell_type": "code",
   "execution_count": 1202,
   "metadata": {},
   "outputs": [],
   "source": [
    "pred = prediction(classic_path,'9.jpg',sorted_square,segmentation)"
   ]
  }
 ],
 "metadata": {
  "kernelspec": {
   "display_name": "Python 3",
   "language": "python",
   "name": "python3"
  },
  "language_info": {
   "codemirror_mode": {
    "name": "ipython",
    "version": 3
   },
   "file_extension": ".py",
   "mimetype": "text/x-python",
   "name": "python",
   "nbconvert_exporter": "python",
   "pygments_lexer": "ipython3",
   "version": "3.7.4"
  }
 },
 "nbformat": 4,
 "nbformat_minor": 2
}

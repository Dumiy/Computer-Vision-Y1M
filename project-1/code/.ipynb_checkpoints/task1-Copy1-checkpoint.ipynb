{
 "cells": [
  {
   "cell_type": "code",
   "execution_count": 180,
   "metadata": {},
   "outputs": [],
   "source": [
    "import cv2 as cv\n",
    "import numpy as np\n",
    "import math\n",
    "from scipy import ndimage\n",
    "import copy"
   ]
  },
  {
   "cell_type": "code",
   "execution_count": 186,
   "metadata": {},
   "outputs": [],
   "source": [
    "classic_path = '../train/jigsaw'"
   ]
  },
  {
   "cell_type": "code",
   "execution_count": 187,
   "metadata": {},
   "outputs": [
    {
     "data": {
      "text/plain": [
       "(887, 665, 3)"
      ]
     },
     "execution_count": 187,
     "metadata": {},
     "output_type": "execute_result"
    }
   ],
   "source": [
    "img = cv.imread(classic_path+\"/15.jpg\")\n",
    "img = cv.resize(img,(0,0),fx=0.22,fy=0.22)\n",
    "img.shape"
   ]
  },
  {
   "cell_type": "code",
   "execution_count": 188,
   "metadata": {},
   "outputs": [],
   "source": [
    "def imshow(img):\n",
    "    cv.imshow('image',img)\n",
    "    cv.waitKey()\n",
    "    cv.destroyAllWindows()"
   ]
  },
  {
   "cell_type": "code",
   "execution_count": 308,
   "metadata": {
    "scrolled": true
   },
   "outputs": [],
   "source": [
    "def read_image_return_sudoku(folder_path: str, filename: str) -> np.array : \n",
    "    img = cv.imread(folder_path+\"/\"+filename,0)\n",
    "    img = cv.resize(img,(0,0),fx=0.22,fy=0.22)\n",
    "    original = img.copy()\n",
    "    img = cv.GaussianBlur(img,(15,15),0)\n",
    "    #original = cv.cvtColor(img.copy(),cv.COLOR_GRAY2BGR)\n",
    "    thresh = cv.adaptiveThreshold(img,255,cv.ADAPTIVE_THRESH_GAUSSIAN_C,\\\n",
    "            cv.THRESH_BINARY,5,2)\n",
    "    img = cv.bitwise_not(img.copy())\n",
    "#     kernel = np.ones((1,4), np.uint8)\n",
    "#     img_erosion = cv.erode(thresh, kernel, iterations=1)\n",
    "#     kernel = np.ones((4,1), np.uint8)\n",
    "#     img_erosion = cv.erode(thresh, kernel, iterations=1)\n",
    "    contours,_ = cv.findContours(thresh,cv.RETR_TREE, cv.CHAIN_APPROX_SIMPLE)\n",
    "    mock_image = thresh.copy()\n",
    "    saved = None\n",
    "    #last_peri = 0\n",
    "    for cnt in contours:\n",
    "        x,y,w,h = cv.boundingRect(cnt)\n",
    "        perimeter = cv.arcLength(cnt,True)\n",
    "        epsilon = 0.1*cv.arcLength(cnt,True)\n",
    "        approx = cv.approxPolyDP(cnt,epsilon,True)\n",
    "        #if w > 420 and h > 420 and x > 5 and y  > 5:\n",
    "        if w > 300 and w < 800 and h > 300 and h < 800:\n",
    "            if saved is None:\n",
    "                saved = (x,y,x+w,y+h)\n",
    "            if saved[3]-saved[1] < h:\n",
    "                saved = (x,y,x+w,y+h)\n",
    "    cv.rectangle(original,(saved[0],saved[1]),(saved[2],saved[3]),(0,255,0),2)\n",
    "            \n",
    "\n",
    "    #imshow(original)\n",
    "    if saved is None:\n",
    "        return original\n",
    "    return original[saved[1]:saved[3],saved[0]:saved[2]]"
   ]
  },
  {
   "cell_type": "code",
   "execution_count": 309,
   "metadata": {},
   "outputs": [
    {
     "name": "stdout",
     "output_type": "stream",
     "text": [
      "1\n",
      "2\n",
      "3\n",
      "4\n",
      "5\n",
      "6\n",
      "7\n",
      "8\n",
      "9\n",
      "10\n",
      "11\n",
      "12\n",
      "13\n",
      "14\n",
      "15\n",
      "16\n",
      "17\n",
      "18\n",
      "19\n",
      "20\n",
      "21\n",
      "22\n",
      "23\n",
      "24\n",
      "25\n",
      "26\n",
      "27\n",
      "28\n",
      "29\n",
      "30\n",
      "31\n",
      "32\n",
      "33\n",
      "34\n",
      "35\n",
      "36\n",
      "37\n",
      "38\n",
      "39\n",
      "40\n"
     ]
    }
   ],
   "source": [
    "for i in range(1,41):\n",
    "    print(i)\n",
    "    read_image_return_sudoku(classic_path,str(i)+'.jpg')"
   ]
  },
  {
   "cell_type": "code",
   "execution_count": 367,
   "metadata": {},
   "outputs": [],
   "source": [
    "for i in range(1,2):\n",
    "    img = read_image_return_sudoku(classic_path,str(i)+'.jpg')\n",
    "    #img = cv.Canny(img,50,100)\n",
    "    gray = cv.bitwise_not(img)\n",
    "    bw = cv.adaptiveThreshold(gray, 255, cv.ADAPTIVE_THRESH_MEAN_C, \\\n",
    "                                cv.THRESH_BINARY, 17, 42)\n",
    "    horizontalStructure = cv.getStructuringElement(cv.MORPH_RECT, (9, 1))\n",
    "    # Apply morphology operations\n",
    "    horizontal = cv.erode(bw, horizontalStructure)\n",
    "    horizontal = cv.dilate(horizontal, horizontalStructure)\n",
    "    vertical = cv.getStructuringElement(cv.MORPH_RECT, (1,9))\n",
    "    # Apply morphology operations\n",
    "    horizontal = cv.erode(horizontal, vertical)\n",
    "    horizontal = cv.dilate(horizontal, vertical)\n",
    "    #horizontal = cv.fastNlMeansDenoising(horizontal, None, 4, 15, 35)\n",
    "    contours,_ = cv.findContours(horizontal,cv.RETR_EXTERNAL, cv.CHAIN_APPROX_SIMPLE)\n",
    "    horizontal = cv.cvtColor(horizontal,cv.COLOR_GRAY2BGR)\n",
    "    for cnt in contours:\n",
    "        epsilon = 0.1*cv.arcLength(cnt,True)\n",
    "        approx = cv.approxPolyDP(cnt,epsilon,True)\n",
    "        cv.drawContours(horizontal, cv.convexHull(cnt), -1, (0, 255, 0), 3)\n",
    "    imshow(img)\n",
    "    \n",
    "    imshow(horizontal)"
   ]
  },
  {
   "cell_type": "code",
   "execution_count": 177,
   "metadata": {
    "scrolled": true
   },
   "outputs": [],
   "source": [
    "def rotate_sudoku(x: np.array) -> np.array:\n",
    "    edges = cv.Canny(x,50,100,apertureSize = 3)\n",
    "    theta = cv.HoughLines(edges,1,np.pi/180,200)[0][0][1]\n",
    "    degree = theta*57\n",
    "    first = x.shape[0]\n",
    "    if degree >5 and degree <30:\n",
    "        x = ndimage.rotate(x, degree)\n",
    "    if degree < 89 and degree > 31:\n",
    "        x = ndimage.rotate(x, -(89-degree))\n",
    "    if degree > 92 and degree < 120:\n",
    "        x = ndimage.rotate(x, abs(89-degree))\n",
    "    if degree > 121 and degree < 178:\n",
    "        x = ndimage.rotate(x, -(180-degree))\n",
    "    diff = x.shape[0] - first\n",
    "    if diff > 30:\n",
    "        diff = diff//2\n",
    "        x = x[diff+22:-(diff+22),diff+22:-(diff+22)]\n",
    "    return x"
   ]
  },
  {
   "cell_type": "code",
   "execution_count": 178,
   "metadata": {},
   "outputs": [
    {
     "ename": "TypeError",
     "evalue": "'NoneType' object is not subscriptable",
     "output_type": "error",
     "traceback": [
      "\u001b[1;31m---------------------------------------------------------------------------\u001b[0m",
      "\u001b[1;31mTypeError\u001b[0m                                 Traceback (most recent call last)",
      "\u001b[1;32m<ipython-input-178-1a7c9c9e02d7>\u001b[0m in \u001b[0;36m<module>\u001b[1;34m\u001b[0m\n\u001b[1;32m----> 1\u001b[1;33m \u001b[0mimshow\u001b[0m\u001b[1;33m(\u001b[0m\u001b[0mrotate_sudoku\u001b[0m\u001b[1;33m(\u001b[0m\u001b[0mread_image_return_sudoku\u001b[0m\u001b[1;33m(\u001b[0m\u001b[0mclassic_path\u001b[0m\u001b[1;33m,\u001b[0m\u001b[1;34m'5.jpg'\u001b[0m\u001b[1;33m)\u001b[0m\u001b[1;33m)\u001b[0m\u001b[1;33m)\u001b[0m\u001b[1;33m\u001b[0m\u001b[1;33m\u001b[0m\u001b[0m\n\u001b[0m",
      "\u001b[1;32m<ipython-input-177-31132ebbd199>\u001b[0m in \u001b[0;36mrotate_sudoku\u001b[1;34m(x)\u001b[0m\n\u001b[0;32m      1\u001b[0m \u001b[1;32mdef\u001b[0m \u001b[0mrotate_sudoku\u001b[0m\u001b[1;33m(\u001b[0m\u001b[0mx\u001b[0m\u001b[1;33m:\u001b[0m \u001b[0mnp\u001b[0m\u001b[1;33m.\u001b[0m\u001b[0marray\u001b[0m\u001b[1;33m)\u001b[0m \u001b[1;33m->\u001b[0m \u001b[0mnp\u001b[0m\u001b[1;33m.\u001b[0m\u001b[0marray\u001b[0m\u001b[1;33m:\u001b[0m\u001b[1;33m\u001b[0m\u001b[1;33m\u001b[0m\u001b[0m\n\u001b[0;32m      2\u001b[0m     \u001b[0medges\u001b[0m \u001b[1;33m=\u001b[0m \u001b[0mcv\u001b[0m\u001b[1;33m.\u001b[0m\u001b[0mCanny\u001b[0m\u001b[1;33m(\u001b[0m\u001b[0mx\u001b[0m\u001b[1;33m,\u001b[0m\u001b[1;36m50\u001b[0m\u001b[1;33m,\u001b[0m\u001b[1;36m100\u001b[0m\u001b[1;33m,\u001b[0m\u001b[0mapertureSize\u001b[0m \u001b[1;33m=\u001b[0m \u001b[1;36m3\u001b[0m\u001b[1;33m)\u001b[0m\u001b[1;33m\u001b[0m\u001b[1;33m\u001b[0m\u001b[0m\n\u001b[1;32m----> 3\u001b[1;33m     \u001b[0mtheta\u001b[0m \u001b[1;33m=\u001b[0m \u001b[0mcv\u001b[0m\u001b[1;33m.\u001b[0m\u001b[0mHoughLines\u001b[0m\u001b[1;33m(\u001b[0m\u001b[0medges\u001b[0m\u001b[1;33m,\u001b[0m\u001b[1;36m1\u001b[0m\u001b[1;33m,\u001b[0m\u001b[0mnp\u001b[0m\u001b[1;33m.\u001b[0m\u001b[0mpi\u001b[0m\u001b[1;33m/\u001b[0m\u001b[1;36m180\u001b[0m\u001b[1;33m,\u001b[0m\u001b[1;36m200\u001b[0m\u001b[1;33m)\u001b[0m\u001b[1;33m[\u001b[0m\u001b[1;36m0\u001b[0m\u001b[1;33m]\u001b[0m\u001b[1;33m[\u001b[0m\u001b[1;36m0\u001b[0m\u001b[1;33m]\u001b[0m\u001b[1;33m[\u001b[0m\u001b[1;36m1\u001b[0m\u001b[1;33m]\u001b[0m\u001b[1;33m\u001b[0m\u001b[1;33m\u001b[0m\u001b[0m\n\u001b[0m\u001b[0;32m      4\u001b[0m     \u001b[0mdegree\u001b[0m \u001b[1;33m=\u001b[0m \u001b[0mtheta\u001b[0m\u001b[1;33m*\u001b[0m\u001b[1;36m57\u001b[0m\u001b[1;33m\u001b[0m\u001b[1;33m\u001b[0m\u001b[0m\n\u001b[0;32m      5\u001b[0m     \u001b[0mfirst\u001b[0m \u001b[1;33m=\u001b[0m \u001b[0mx\u001b[0m\u001b[1;33m.\u001b[0m\u001b[0mshape\u001b[0m\u001b[1;33m[\u001b[0m\u001b[1;36m0\u001b[0m\u001b[1;33m]\u001b[0m\u001b[1;33m\u001b[0m\u001b[1;33m\u001b[0m\u001b[0m\n",
      "\u001b[1;31mTypeError\u001b[0m: 'NoneType' object is not subscriptable"
     ]
    }
   ],
   "source": [
    "imshow(rotate_sudoku(read_image_return_sudoku(classic_path,'5.jpg')))"
   ]
  },
  {
   "cell_type": "code",
   "execution_count": 20,
   "metadata": {},
   "outputs": [],
   "source": [
    "def extract_squares(rotate_sudoku: np.array) -> list:\n",
    "    squares = []\n",
    "    mock_image = rotate_sudoku.copy()\n",
    "    mock_image = cv.adaptiveThreshold(mock_image,255,cv.ADAPTIVE_THRESH_MEAN_C,\\\n",
    "            cv.THRESH_BINARY,11,4)\n",
    "    contours,_ = cv.findContours(mock_image,cv.RETR_TREE, cv.CHAIN_APPROX_SIMPLE)\n",
    "    for cnt in contours:\n",
    "        x,y,w,h = cv.boundingRect(cnt)\n",
    "        epsilon = 0.1*cv.arcLength(cnt,True)\n",
    "        approx = cv.approxPolyDP(cnt,epsilon,True)\n",
    "        perimeter = cv.arcLength(cnt,True)\n",
    "        if perimeter > 180 and perimeter < 300 and len(approx) == 4:\n",
    "            saved = (x,y,x+w,y+h)\n",
    "            squares.append(saved)\n",
    "    return squares"
   ]
  },
  {
   "cell_type": "code",
   "execution_count": 22,
   "metadata": {},
   "outputs": [
    {
     "data": {
      "text/plain": [
       "[(465, 467, 523, 525),\n",
       " (407, 467, 464, 525),\n",
       " (351, 467, 406, 525),\n",
       " (292, 467, 346, 525),\n",
       " (234, 467, 290, 525)]"
      ]
     },
     "execution_count": 22,
     "metadata": {},
     "output_type": "execute_result"
    }
   ],
   "source": [
    "extract_squares(rotate_sudoku(read_image_return_sudoku(classic_path,'5.jpg')))[:5]"
   ]
  },
  {
   "cell_type": "code",
   "execution_count": 23,
   "metadata": {
    "scrolled": true
   },
   "outputs": [],
   "source": [
    "def complete_squares(squares,img):\n",
    "    squares =sorted(squares,key=lambda x: x[0])\n",
    "    temp = sorted(squares,key=lambda x: x[1])\n",
    "    a = [abs(temp[0][0]-temp[1][0]),abs(temp[0][1]-temp[1][1]),abs(temp[0][2]-temp[1][2]),abs(temp[0][3]-temp[1][3])]\n",
    "    b = [abs(squares[0][0]-squares[1][0]),abs(squares[0][1]-squares[1][1]),abs(squares[0][2]-squares[1][2]),abs(squares[0][3]-squares[1][3])]\n",
    "    if max(a)<=max(b):\n",
    "        square_max = max(a)+3\n",
    "    else:\n",
    "        square_max = max(b)+3\n",
    "    total = 0\n",
    "    last = None\n",
    "    start = 0\n",
    "    fixed_sudoku = []\n",
    "    square = []\n",
    "    if len(squares) < 81:\n",
    "        for i in squares:\n",
    "            if last is None:\n",
    "                total+=1\n",
    "                last = i[0]\n",
    "                start = i[1]\n",
    "                square.append(i)\n",
    "            elif len(square) == 9:\n",
    "                fixed_sudoku.append(square)\n",
    "                last = i[0]\n",
    "                total=1\n",
    "                start = i[1]\n",
    "                square = []\n",
    "                square.append(i)\n",
    "            elif last+25 < i[0]:\n",
    "                if total < 9:\n",
    "                    while len(square) !=9:\n",
    "                        square = sorted(square,key=lambda x: x[1])\n",
    "                        min_y = min([x[1] for x in squares])\n",
    "                        for j in range(len(square)):\n",
    "                            if square[0][1]-10 <= min_y:\n",
    "                                if j != len(square)-1 and len(square) < 9:\n",
    "                                    if square[j+1][1]-square[j][1] >= square_max+12:\n",
    "                                        elem = (square[j][0],square[j][3],square[j][2],square[j][3]+square_max-6)\n",
    "                                        square.insert(j+1,elem)\n",
    "                            else:\n",
    "                                elem = (square[j][0],min_y,square[j][2],min_y+square_max)\n",
    "                                square.insert(0,elem)\n",
    "                        if len(square)== 9:\n",
    "                            break\n",
    "                        while len(square) <9 and img.shape[0]-square[-1][3]+10 >= square_max:\n",
    "                            elem = (square[-1][0],square[-1][3],square[-1][2],square[-1][3]+square_max-6)\n",
    "                            square.append(elem)\n",
    "                    if len(square) == 9:\n",
    "                        fixed_sudoku.append(square)\n",
    "                else:\n",
    "                    fixed_sudoku.append(square)\n",
    "                last = i[0]\n",
    "                total=1\n",
    "                start = i[1]\n",
    "                square = []\n",
    "                square.append(i)\n",
    "            else:\n",
    "                last = i[0]\n",
    "                square.append(i)\n",
    "                total+=1\n",
    "        if total !=9:\n",
    "            while len(square) !=9:\n",
    "                square = sorted(square,key=lambda x: x[1])\n",
    "                min_y = min([x[1] for x in squares])\n",
    "                for j in range(len(square)):\n",
    "                    if square[0][1]-10 <= min_y:\n",
    "                        if j != len(square)-1 and len(square) < 9:\n",
    "                            if square[j+1][1]-square[j][1] >= square_max:\n",
    "                                elem = (square[j][0],square[j][3],square[j][2],square[j][3]+square_max-6)\n",
    "                                square.insert(j+1,elem)\n",
    "                    else:\n",
    "                        elem = (square[j][0],min_y,square[j][2],min_y+square_max)\n",
    "                        square.insert(0,elem)\n",
    "                if len(square)== 9:\n",
    "                    break\n",
    "                while len(square) <9 and img.shape[0]-square[-1][3] >= square_max:\n",
    "                    elem = (square[-1][0],square[-1][3],square[-1][2],square[-1][3]+square_max-6)\n",
    "                    square.append(elem)\n",
    "            if len(square) == 9:\n",
    "                fixed_sudoku.append(square)\n",
    "            else:\n",
    "                pass\n",
    "        else:\n",
    "            fixed_sudoku.append(square)\n",
    "        return fixed_sudoku\n",
    "    return squares\n"
   ]
  },
  {
   "cell_type": "code",
   "execution_count": 39,
   "metadata": {},
   "outputs": [],
   "source": [
    "rotated_img = rotate_sudoku(read_image_return_sudoku(classic_path,'5.jpg'))\n",
    "squares = complete_squares(extract_squares(rotated_img),rotated_img)"
   ]
  },
  {
   "cell_type": "code",
   "execution_count": 40,
   "metadata": {},
   "outputs": [],
   "source": [
    "def create_submision_template() -> list:\n",
    "    template = '''\n",
    "oooxxxooo\n",
    "ooxoooxoo\n",
    "xooooooox\n",
    "oxoooooxo\n",
    "oxoxxxoxo\n",
    "oxoooooxo\n",
    "xooooooox\n",
    "ooxoooxoo\n",
    "oooxxxooo'''\n",
    "    template = template.replace(\"x\",'o').split(\"\\n\")[1:]\n",
    "    template = [list(x) for x in template]\n",
    "    return template"
   ]
  },
  {
   "cell_type": "code",
   "execution_count": 44,
   "metadata": {
    "scrolled": true
   },
   "outputs": [],
   "source": [
    "\n",
    "def create_submision(squares: list,image: np.array)-> list:\n",
    "    submision = create_submision_template()\n",
    "    img = image.copy()\n",
    "    img = cv.bitwise_not(img)\n",
    "    x = squares\n",
    "    values = []\n",
    "    if len(x) == 81:\n",
    "        block = sorted(squares,key=lambda x: (x[0],x[1]))\n",
    "        block = np.abs((np.array(block[0]) - np.array(block[1]))).max()-1\n",
    "        for s,y,w,h in sorted(squares,key=lambda x: (x[0],x[1])):\n",
    "            uniq = np.unique(np.digitize(img[y+8:h-8,s+8:w-8],np.array([55])), return_counts=True)\n",
    "            if s < block and s < block-10:\n",
    "                i=0\n",
    "            elif s > block-10 and s < block:\n",
    "                i = s//block +1\n",
    "            else:\n",
    "                i = s//block\n",
    "            if y < block and y < block-10:\n",
    "                j=0\n",
    "            elif y > block-10 and y < block:\n",
    "                j = y//block +1\n",
    "            else:\n",
    "                j = y//block\n",
    "            #print(i,j)\n",
    "            if len(uniq[1])== 2 and uniq[1][1] > 100:\n",
    "                #print(j,i)\n",
    "                values.append((j,i))\n",
    "    else:\n",
    "        new_list = []\n",
    "        for item in x:\n",
    "            for s in item:\n",
    "                new_list.append(s)\n",
    "        new_list = sorted(new_list,key=lambda x: (x[0],x[1]))\n",
    "        block = sorted(new_list,key=lambda x: (x[0],x[1]))\n",
    "        block = np.abs((np.array(block[0]) - np.array(block[1]))).max()-1\n",
    "        for s,y,w,h in new_list:\n",
    "            if s < block and s < block-10:\n",
    "                i=0\n",
    "            elif s > block-10 and s < block:\n",
    "                i = s//block +1\n",
    "            else:\n",
    "                i = s//block\n",
    "            if y < block and y < block-10:\n",
    "                j=0\n",
    "            elif y > block-10 and y < block:\n",
    "                j = y//block +1\n",
    "            else:\n",
    "                j = y//block\n",
    "            \n",
    "            uniq = np.unique(np.digitize(img[y+8:h-8,s+8:w-8],np.array([55])), return_counts=True)\n",
    "            if len(uniq[1])== 2 and uniq[1][1] > 100:\n",
    "                values.append((j,i))\n",
    "    return values"
   ]
  },
  {
   "cell_type": "code",
   "execution_count": 49,
   "metadata": {},
   "outputs": [],
   "source": [
    "out = create_submision(squares,rotated_img)"
   ]
  },
  {
   "cell_type": "code",
   "execution_count": 68,
   "metadata": {
    "scrolled": false
   },
   "outputs": [],
   "source": [
    "def make_prediction(x : list,output_path):\n",
    "    submision = create_submision_template()\n",
    "    first = np.array([y[0] for y in x])\n",
    "    second = np.array([y[1] for y in x])\n",
    "    if min(first) < 0:\n",
    "        first+=abs(min(first))\n",
    "    if min(second) < 0:\n",
    "        first+=abs(min(second))\n",
    "    if max(first) > 8:\n",
    "        if 0 in first:\n",
    "            first[first > 8] = 8\n",
    "        else:\n",
    "            first-=(max(first)-8)\n",
    "    if max(second) > 8:\n",
    "        if 0 in second:\n",
    "            second[second > 8] = 8\n",
    "        else:\n",
    "            second-= (max(second)-8)\n",
    "    for x,y in zip(first,second):\n",
    "        submision[x][y] = 'x'\n",
    "    out = ''\n",
    "    for x in range(9):\n",
    "        for y in range(9):\n",
    "            out+=submision[x][y]\n",
    "        out+='\\n'\n",
    "    print(out)\n",
    "    file = open(output_path,'w+')\n",
    "    file.writelines(out[:-1])\n",
    "    file.close()"
   ]
  },
  {
   "cell_type": "code",
   "execution_count": 69,
   "metadata": {},
   "outputs": [
    {
     "name": "stdout",
     "output_type": "stream",
     "text": [
      "xoxxoxooo\n",
      "xoxoxoooo\n",
      "oxooxooxx\n",
      "xoxooooxo\n",
      "ooxxooooo\n",
      "oooxxxxoo\n",
      "xoooxooxx\n",
      "ooooooooo\n",
      "oxoxoxxox\n",
      "\n"
     ]
    }
   ],
   "source": [
    "make_prediction(out,'file.txt')"
   ]
  }
 ],
 "metadata": {
  "kernelspec": {
   "display_name": "Python 3",
   "language": "python",
   "name": "python3"
  },
  "language_info": {
   "codemirror_mode": {
    "name": "ipython",
    "version": 3
   },
   "file_extension": ".py",
   "mimetype": "text/x-python",
   "name": "python",
   "nbconvert_exporter": "python",
   "pygments_lexer": "ipython3",
   "version": "3.7.4"
  }
 },
 "nbformat": 4,
 "nbformat_minor": 2
}
